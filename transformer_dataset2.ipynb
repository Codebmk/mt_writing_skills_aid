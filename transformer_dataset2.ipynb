{
 "cells": [
  {
   "cell_type": "code",
   "execution_count": 6,
   "id": "3b88c2d5",
   "metadata": {
    "collapsed": true
   },
   "outputs": [
    {
     "name": "stdout",
     "output_type": "stream",
     "text": [
      "Requirement already satisfied: seaborn in /home/belinda/miniconda3/envs/ml_venv/lib/python3.10/site-packages (0.12.2)\n",
      "Requirement already satisfied: pandas>=0.25 in /home/belinda/miniconda3/envs/ml_venv/lib/python3.10/site-packages (from seaborn) (2.0.1)\n",
      "Requirement already satisfied: matplotlib!=3.6.1,>=3.1 in /home/belinda/miniconda3/envs/ml_venv/lib/python3.10/site-packages (from seaborn) (3.7.1)\n",
      "Requirement already satisfied: numpy!=1.24.0,>=1.17 in /home/belinda/miniconda3/envs/ml_venv/lib/python3.10/site-packages (from seaborn) (1.22.3)\n",
      "Requirement already satisfied: contourpy>=1.0.1 in /home/belinda/miniconda3/envs/ml_venv/lib/python3.10/site-packages (from matplotlib!=3.6.1,>=3.1->seaborn) (1.0.7)\n",
      "Requirement already satisfied: cycler>=0.10 in /home/belinda/miniconda3/envs/ml_venv/lib/python3.10/site-packages (from matplotlib!=3.6.1,>=3.1->seaborn) (0.11.0)\n",
      "Requirement already satisfied: pillow>=6.2.0 in /home/belinda/miniconda3/envs/ml_venv/lib/python3.10/site-packages (from matplotlib!=3.6.1,>=3.1->seaborn) (9.5.0)\n",
      "Requirement already satisfied: kiwisolver>=1.0.1 in /home/belinda/miniconda3/envs/ml_venv/lib/python3.10/site-packages (from matplotlib!=3.6.1,>=3.1->seaborn) (1.4.4)\n",
      "Requirement already satisfied: packaging>=20.0 in /home/belinda/miniconda3/envs/ml_venv/lib/python3.10/site-packages (from matplotlib!=3.6.1,>=3.1->seaborn) (22.0)\n",
      "Requirement already satisfied: python-dateutil>=2.7 in /home/belinda/miniconda3/envs/ml_venv/lib/python3.10/site-packages (from matplotlib!=3.6.1,>=3.1->seaborn) (2.8.2)\n",
      "Requirement already satisfied: pyparsing>=2.3.1 in /home/belinda/miniconda3/envs/ml_venv/lib/python3.10/site-packages (from matplotlib!=3.6.1,>=3.1->seaborn) (3.0.9)\n",
      "Requirement already satisfied: fonttools>=4.22.0 in /home/belinda/miniconda3/envs/ml_venv/lib/python3.10/site-packages (from matplotlib!=3.6.1,>=3.1->seaborn) (4.39.3)\n",
      "Requirement already satisfied: pytz>=2020.1 in /home/belinda/miniconda3/envs/ml_venv/lib/python3.10/site-packages (from pandas>=0.25->seaborn) (2022.7)\n",
      "Requirement already satisfied: tzdata>=2022.1 in /home/belinda/miniconda3/envs/ml_venv/lib/python3.10/site-packages (from pandas>=0.25->seaborn) (2023.3)\n",
      "Requirement already satisfied: six>=1.5 in /home/belinda/miniconda3/envs/ml_venv/lib/python3.10/site-packages (from python-dateutil>=2.7->matplotlib!=3.6.1,>=3.1->seaborn) (1.16.0)\n",
      "Requirement already satisfied: nltk in /home/belinda/miniconda3/envs/ml_venv/lib/python3.10/site-packages (3.8.1)\n",
      "Requirement already satisfied: joblib in /home/belinda/miniconda3/envs/ml_venv/lib/python3.10/site-packages (from nltk) (1.2.0)\n",
      "Requirement already satisfied: click in /home/belinda/miniconda3/envs/ml_venv/lib/python3.10/site-packages (from nltk) (8.1.3)\n",
      "Requirement already satisfied: regex>=2021.8.3 in /home/belinda/miniconda3/envs/ml_venv/lib/python3.10/site-packages (from nltk) (2023.5.5)\n",
      "Requirement already satisfied: tqdm in /home/belinda/miniconda3/envs/ml_venv/lib/python3.10/site-packages (from nltk) (4.65.0)\n",
      "Requirement already satisfied: datasets in /home/belinda/miniconda3/envs/ml_venv/lib/python3.10/site-packages (2.12.0)\n",
      "Requirement already satisfied: numpy>=1.17 in /home/belinda/miniconda3/envs/ml_venv/lib/python3.10/site-packages (from datasets) (1.22.3)\n",
      "Requirement already satisfied: pyarrow>=8.0.0 in /home/belinda/miniconda3/envs/ml_venv/lib/python3.10/site-packages (from datasets) (12.0.0)\n",
      "Requirement already satisfied: pandas in /home/belinda/miniconda3/envs/ml_venv/lib/python3.10/site-packages (from datasets) (2.0.1)\n",
      "Requirement already satisfied: packaging in /home/belinda/miniconda3/envs/ml_venv/lib/python3.10/site-packages (from datasets) (22.0)\n",
      "Requirement already satisfied: responses<0.19 in /home/belinda/miniconda3/envs/ml_venv/lib/python3.10/site-packages (from datasets) (0.18.0)\n",
      "Requirement already satisfied: fsspec[http]>=2021.11.1 in /home/belinda/miniconda3/envs/ml_venv/lib/python3.10/site-packages (from datasets) (2023.5.0)\n",
      "Requirement already satisfied: xxhash in /home/belinda/miniconda3/envs/ml_venv/lib/python3.10/site-packages (from datasets) (3.2.0)\n",
      "Requirement already satisfied: pyyaml>=5.1 in /home/belinda/miniconda3/envs/ml_venv/lib/python3.10/site-packages (from datasets) (6.0)\n",
      "Requirement already satisfied: tqdm>=4.62.1 in /home/belinda/miniconda3/envs/ml_venv/lib/python3.10/site-packages (from datasets) (4.65.0)\n",
      "Requirement already satisfied: aiohttp in /home/belinda/miniconda3/envs/ml_venv/lib/python3.10/site-packages (from datasets) (3.8.1)\n",
      "Requirement already satisfied: requests>=2.19.0 in /home/belinda/miniconda3/envs/ml_venv/lib/python3.10/site-packages (from datasets) (2.28.1)\n",
      "Requirement already satisfied: multiprocess in /home/belinda/miniconda3/envs/ml_venv/lib/python3.10/site-packages (from datasets) (0.70.14)\n",
      "Requirement already satisfied: huggingface-hub<1.0.0,>=0.11.0 in /home/belinda/miniconda3/envs/ml_venv/lib/python3.10/site-packages (from datasets) (0.14.1)\n",
      "Requirement already satisfied: dill<0.3.7,>=0.3.0 in /home/belinda/miniconda3/envs/ml_venv/lib/python3.10/site-packages (from datasets) (0.3.6)\n",
      "Requirement already satisfied: charset-normalizer<3.0,>=2.0 in /home/belinda/miniconda3/envs/ml_venv/lib/python3.10/site-packages (from aiohttp->datasets) (2.0.4)\n",
      "Requirement already satisfied: attrs>=17.3.0 in /home/belinda/miniconda3/envs/ml_venv/lib/python3.10/site-packages (from aiohttp->datasets) (22.1.0)\n",
      "Requirement already satisfied: async-timeout<5.0,>=4.0.0a3 in /home/belinda/miniconda3/envs/ml_venv/lib/python3.10/site-packages (from aiohttp->datasets) (4.0.2)\n",
      "Requirement already satisfied: yarl<2.0,>=1.0 in /home/belinda/miniconda3/envs/ml_venv/lib/python3.10/site-packages (from aiohttp->datasets) (1.7.2)\n",
      "Requirement already satisfied: multidict<7.0,>=4.5 in /home/belinda/miniconda3/envs/ml_venv/lib/python3.10/site-packages (from aiohttp->datasets) (6.0.2)\n",
      "Requirement already satisfied: aiosignal>=1.1.2 in /home/belinda/miniconda3/envs/ml_venv/lib/python3.10/site-packages (from aiohttp->datasets) (1.3.1)\n",
      "Requirement already satisfied: frozenlist>=1.1.1 in /home/belinda/miniconda3/envs/ml_venv/lib/python3.10/site-packages (from aiohttp->datasets) (1.3.3)\n",
      "Requirement already satisfied: filelock in /home/belinda/miniconda3/envs/ml_venv/lib/python3.10/site-packages (from huggingface-hub<1.0.0,>=0.11.0->datasets) (3.12.0)\n",
      "Requirement already satisfied: typing-extensions>=3.7.4.3 in /home/belinda/miniconda3/envs/ml_venv/lib/python3.10/site-packages (from huggingface-hub<1.0.0,>=0.11.0->datasets) (4.4.0)\n",
      "Requirement already satisfied: idna<4,>=2.5 in /home/belinda/miniconda3/envs/ml_venv/lib/python3.10/site-packages (from requests>=2.19.0->datasets) (3.4)\n",
      "Requirement already satisfied: urllib3<1.27,>=1.21.1 in /home/belinda/miniconda3/envs/ml_venv/lib/python3.10/site-packages (from requests>=2.19.0->datasets) (1.26.14)\n",
      "Requirement already satisfied: certifi>=2017.4.17 in /home/belinda/miniconda3/envs/ml_venv/lib/python3.10/site-packages (from requests>=2.19.0->datasets) (2023.5.7)\n",
      "Requirement already satisfied: pytz>=2020.1 in /home/belinda/miniconda3/envs/ml_venv/lib/python3.10/site-packages (from pandas->datasets) (2022.7)\n",
      "Requirement already satisfied: python-dateutil>=2.8.2 in /home/belinda/miniconda3/envs/ml_venv/lib/python3.10/site-packages (from pandas->datasets) (2.8.2)\n",
      "Requirement already satisfied: tzdata>=2022.1 in /home/belinda/miniconda3/envs/ml_venv/lib/python3.10/site-packages (from pandas->datasets) (2023.3)\n",
      "Requirement already satisfied: six>=1.5 in /home/belinda/miniconda3/envs/ml_venv/lib/python3.10/site-packages (from python-dateutil>=2.8.2->pandas->datasets) (1.16.0)\n",
      "Collecting keras_nlp\n",
      "  Using cached keras_nlp-0.5.2-py3-none-any.whl (527 kB)\n",
      "Collecting tensorflow-text\n",
      "  Using cached tensorflow_text-2.12.1-cp310-cp310-manylinux_2_17_x86_64.manylinux2014_x86_64.whl (6.0 MB)\n",
      "Requirement already satisfied: absl-py in /home/belinda/miniconda3/envs/ml_venv/lib/python3.10/site-packages (from keras_nlp) (1.4.0)\n",
      "Requirement already satisfied: packaging in /home/belinda/miniconda3/envs/ml_venv/lib/python3.10/site-packages (from keras_nlp) (22.0)\n",
      "Requirement already satisfied: numpy in /home/belinda/miniconda3/envs/ml_venv/lib/python3.10/site-packages (from keras_nlp) (1.22.3)\n"
     ]
    },
    {
     "name": "stdout",
     "output_type": "stream",
     "text": [
      "Collecting tensorflow-hub>=0.8.0\n",
      "  Using cached tensorflow_hub-0.13.0-py2.py3-none-any.whl (100 kB)\n",
      "Requirement already satisfied: tensorflow<2.13,>=2.12.0 in /home/belinda/miniconda3/envs/ml_venv/lib/python3.10/site-packages (from tensorflow-text->keras_nlp) (2.12.0)\n",
      "Requirement already satisfied: typing-extensions>=3.6.6 in /home/belinda/miniconda3/envs/ml_venv/lib/python3.10/site-packages (from tensorflow<2.13,>=2.12.0->tensorflow-text->keras_nlp) (4.4.0)\n",
      "Requirement already satisfied: gast<=0.4.0,>=0.2.1 in /home/belinda/miniconda3/envs/ml_venv/lib/python3.10/site-packages (from tensorflow<2.13,>=2.12.0->tensorflow-text->keras_nlp) (0.4.0)\n",
      "Requirement already satisfied: tensorboard<2.13,>=2.12 in /home/belinda/miniconda3/envs/ml_venv/lib/python3.10/site-packages (from tensorflow<2.13,>=2.12.0->tensorflow-text->keras_nlp) (2.12.1)\n",
      "Requirement already satisfied: keras<2.13,>=2.12.0 in /home/belinda/miniconda3/envs/ml_venv/lib/python3.10/site-packages (from tensorflow<2.13,>=2.12.0->tensorflow-text->keras_nlp) (2.12.0)\n",
      "Requirement already satisfied: tensorflow-estimator<2.13,>=2.12.0 in /home/belinda/miniconda3/envs/ml_venv/lib/python3.10/site-packages (from tensorflow<2.13,>=2.12.0->tensorflow-text->keras_nlp) (2.12.0)\n",
      "Requirement already satisfied: termcolor>=1.1.0 in /home/belinda/miniconda3/envs/ml_venv/lib/python3.10/site-packages (from tensorflow<2.13,>=2.12.0->tensorflow-text->keras_nlp) (2.3.0)\n",
      "Collecting libclang>=13.0.0\n",
      "  Downloading libclang-16.0.0-py2.py3-none-manylinux2010_x86_64.whl (22.9 MB)\n",
      "\u001b[2K     \u001b[38;2;114;156;31m━━━━━━━━━━━━━━━━━━━━━━━━━━━━━━━━━━━━━━━\u001b[0m \u001b[32m22.9/22.9 MB\u001b[0m \u001b[31m538.8 kB/s\u001b[0m eta \u001b[36m0:00:00\u001b[0mm eta \u001b[36m0:00:01\u001b[0m[36m0:00:02\u001b[0m\n",
      "\u001b[?25hRequirement already satisfied: six>=1.12.0 in /home/belinda/miniconda3/envs/ml_venv/lib/python3.10/site-packages (from tensorflow<2.13,>=2.12.0->tensorflow-text->keras_nlp) (1.16.0)\n",
      "Requirement already satisfied: wrapt<1.15,>=1.11.0 in /home/belinda/miniconda3/envs/ml_venv/lib/python3.10/site-packages (from tensorflow<2.13,>=2.12.0->tensorflow-text->keras_nlp) (1.14.1)\n",
      "Requirement already satisfied: google-pasta>=0.1.1 in /home/belinda/miniconda3/envs/ml_venv/lib/python3.10/site-packages (from tensorflow<2.13,>=2.12.0->tensorflow-text->keras_nlp) (0.2.0)\n",
      "Requirement already satisfied: astunparse>=1.6.0 in /home/belinda/miniconda3/envs/ml_venv/lib/python3.10/site-packages (from tensorflow<2.13,>=2.12.0->tensorflow-text->keras_nlp) (1.6.3)\n",
      "Requirement already satisfied: opt-einsum>=2.3.2 in /home/belinda/miniconda3/envs/ml_venv/lib/python3.10/site-packages (from tensorflow<2.13,>=2.12.0->tensorflow-text->keras_nlp) (3.3.0)\n",
      "Requirement already satisfied: setuptools in /home/belinda/miniconda3/envs/ml_venv/lib/python3.10/site-packages (from tensorflow<2.13,>=2.12.0->tensorflow-text->keras_nlp) (65.6.3)\n",
      "Collecting jax>=0.3.15\n",
      "  Using cached jax-0.4.10.tar.gz (1.3 MB)\n",
      "  Installing build dependencies ... \u001b[?25ldone\n",
      "\u001b[?25h  Getting requirements to build wheel ... \u001b[?25ldone\n",
      "\u001b[?25h  Preparing metadata (pyproject.toml) ... \u001b[?25ldone\n",
      "\u001b[?25hCollecting tensorflow-io-gcs-filesystem>=0.23.1\n",
      "  Using cached tensorflow_io_gcs_filesystem-0.32.0-cp310-cp310-manylinux_2_12_x86_64.manylinux2010_x86_64.whl (2.4 MB)\n",
      "Requirement already satisfied: grpcio<2.0,>=1.24.3 in /home/belinda/miniconda3/envs/ml_venv/lib/python3.10/site-packages (from tensorflow<2.13,>=2.12.0->tensorflow-text->keras_nlp) (1.48.2)\n",
      "Requirement already satisfied: protobuf!=4.21.0,!=4.21.1,!=4.21.2,!=4.21.3,!=4.21.4,!=4.21.5,<5.0.0dev,>=3.20.3 in /home/belinda/miniconda3/envs/ml_venv/lib/python3.10/site-packages (from tensorflow<2.13,>=2.12.0->tensorflow-text->keras_nlp) (3.20.3)\n",
      "Requirement already satisfied: flatbuffers>=2.0 in /home/belinda/miniconda3/envs/ml_venv/lib/python3.10/site-packages (from tensorflow<2.13,>=2.12.0->tensorflow-text->keras_nlp) (23.1.21)\n",
      "Requirement already satisfied: h5py>=2.9.0 in /home/belinda/miniconda3/envs/ml_venv/lib/python3.10/site-packages (from tensorflow<2.13,>=2.12.0->tensorflow-text->keras_nlp) (3.7.0)\n",
      "Requirement already satisfied: wheel<1.0,>=0.23.0 in /home/belinda/miniconda3/envs/ml_venv/lib/python3.10/site-packages (from astunparse>=1.6.0->tensorflow<2.13,>=2.12.0->tensorflow-text->keras_nlp) (0.37.1)\n",
      "Requirement already satisfied: scipy>=1.7 in /home/belinda/miniconda3/envs/ml_venv/lib/python3.10/site-packages (from jax>=0.3.15->tensorflow<2.13,>=2.12.0->tensorflow-text->keras_nlp) (1.8.1)\n",
      "Collecting ml-dtypes>=0.1.0\n",
      "  Downloading ml_dtypes-0.1.0-cp310-cp310-manylinux_2_17_x86_64.manylinux2014_x86_64.whl (190 kB)\n",
      "\u001b[2K     \u001b[38;2;114;156;31m━━━━━━━━━━━━━━━━━━━━━━━━━━━━━━━━━━━━━\u001b[0m \u001b[32m190.6/190.6 kB\u001b[0m \u001b[31m290.7 kB/s\u001b[0m eta \u001b[36m0:00:00\u001b[0m1m422.1 kB/s\u001b[0m eta \u001b[36m0:00:01\u001b[0m\n",
      "\u001b[?25hRequirement already satisfied: requests<3,>=2.21.0 in /home/belinda/miniconda3/envs/ml_venv/lib/python3.10/site-packages (from tensorboard<2.13,>=2.12->tensorflow<2.13,>=2.12.0->tensorflow-text->keras_nlp) (2.28.1)\n",
      "Requirement already satisfied: tensorboard-plugin-wit>=1.6.0 in /home/belinda/miniconda3/envs/ml_venv/lib/python3.10/site-packages (from tensorboard<2.13,>=2.12->tensorflow<2.13,>=2.12.0->tensorflow-text->keras_nlp) (1.8.1)\n",
      "Requirement already satisfied: google-auth<3,>=1.6.3 in /home/belinda/miniconda3/envs/ml_venv/lib/python3.10/site-packages (from tensorboard<2.13,>=2.12->tensorflow<2.13,>=2.12.0->tensorflow-text->keras_nlp) (2.17.3)\n",
      "Requirement already satisfied: werkzeug>=1.0.1 in /home/belinda/miniconda3/envs/ml_venv/lib/python3.10/site-packages (from tensorboard<2.13,>=2.12->tensorflow<2.13,>=2.12.0->tensorflow-text->keras_nlp) (2.3.3)\n",
      "Requirement already satisfied: google-auth-oauthlib<1.1,>=0.5 in /home/belinda/miniconda3/envs/ml_venv/lib/python3.10/site-packages (from tensorboard<2.13,>=2.12->tensorflow<2.13,>=2.12.0->tensorflow-text->keras_nlp) (1.0.0)\n",
      "Requirement already satisfied: tensorboard-data-server<0.8.0,>=0.7.0 in /home/belinda/miniconda3/envs/ml_venv/lib/python3.10/site-packages (from tensorboard<2.13,>=2.12->tensorflow<2.13,>=2.12.0->tensorflow-text->keras_nlp) (0.7.0)\n",
      "Requirement already satisfied: markdown>=2.6.8 in /home/belinda/miniconda3/envs/ml_venv/lib/python3.10/site-packages (from tensorboard<2.13,>=2.12->tensorflow<2.13,>=2.12.0->tensorflow-text->keras_nlp) (3.4.3)\n",
      "Requirement already satisfied: pyasn1-modules>=0.2.1 in /home/belinda/miniconda3/envs/ml_venv/lib/python3.10/site-packages (from google-auth<3,>=1.6.3->tensorboard<2.13,>=2.12->tensorflow<2.13,>=2.12.0->tensorflow-text->keras_nlp) (0.2.7)\n",
      "Requirement already satisfied: cachetools<6.0,>=2.0.0 in /home/belinda/miniconda3/envs/ml_venv/lib/python3.10/site-packages (from google-auth<3,>=1.6.3->tensorboard<2.13,>=2.12->tensorflow<2.13,>=2.12.0->tensorflow-text->keras_nlp) (5.3.0)\n",
      "Requirement already satisfied: rsa<5,>=3.1.4 in /home/belinda/miniconda3/envs/ml_venv/lib/python3.10/site-packages (from google-auth<3,>=1.6.3->tensorboard<2.13,>=2.12->tensorflow<2.13,>=2.12.0->tensorflow-text->keras_nlp) (4.9)\n",
      "Requirement already satisfied: requests-oauthlib>=0.7.0 in /home/belinda/miniconda3/envs/ml_venv/lib/python3.10/site-packages (from google-auth-oauthlib<1.1,>=0.5->tensorboard<2.13,>=2.12->tensorflow<2.13,>=2.12.0->tensorflow-text->keras_nlp) (1.3.1)\n",
      "Requirement already satisfied: charset-normalizer<3,>=2 in /home/belinda/miniconda3/envs/ml_venv/lib/python3.10/site-packages (from requests<3,>=2.21.0->tensorboard<2.13,>=2.12->tensorflow<2.13,>=2.12.0->tensorflow-text->keras_nlp) (2.0.4)\n",
      "Requirement already satisfied: idna<4,>=2.5 in /home/belinda/miniconda3/envs/ml_venv/lib/python3.10/site-packages (from requests<3,>=2.21.0->tensorboard<2.13,>=2.12->tensorflow<2.13,>=2.12.0->tensorflow-text->keras_nlp) (3.4)\n",
      "Requirement already satisfied: urllib3<1.27,>=1.21.1 in /home/belinda/miniconda3/envs/ml_venv/lib/python3.10/site-packages (from requests<3,>=2.21.0->tensorboard<2.13,>=2.12->tensorflow<2.13,>=2.12.0->tensorflow-text->keras_nlp) (1.26.14)\n",
      "Requirement already satisfied: certifi>=2017.4.17 in /home/belinda/miniconda3/envs/ml_venv/lib/python3.10/site-packages (from requests<3,>=2.21.0->tensorboard<2.13,>=2.12->tensorflow<2.13,>=2.12.0->tensorflow-text->keras_nlp) (2023.5.7)\n",
      "Requirement already satisfied: MarkupSafe>=2.1.1 in /home/belinda/miniconda3/envs/ml_venv/lib/python3.10/site-packages (from werkzeug>=1.0.1->tensorboard<2.13,>=2.12->tensorflow<2.13,>=2.12.0->tensorflow-text->keras_nlp) (2.1.1)\n",
      "Requirement already satisfied: pyasn1<0.5.0,>=0.4.6 in /home/belinda/miniconda3/envs/ml_venv/lib/python3.10/site-packages (from pyasn1-modules>=0.2.1->google-auth<3,>=1.6.3->tensorboard<2.13,>=2.12->tensorflow<2.13,>=2.12.0->tensorflow-text->keras_nlp) (0.4.8)\n",
      "Requirement already satisfied: oauthlib>=3.0.0 in /home/belinda/miniconda3/envs/ml_venv/lib/python3.10/site-packages (from requests-oauthlib>=0.7.0->google-auth-oauthlib<1.1,>=0.5->tensorboard<2.13,>=2.12->tensorflow<2.13,>=2.12.0->tensorflow-text->keras_nlp) (3.2.2)\n"
     ]
    },
    {
     "name": "stdout",
     "output_type": "stream",
     "text": [
      "Building wheels for collected packages: jax\n",
      "  Building wheel for jax (pyproject.toml) ... \u001b[?25ldone\n",
      "\u001b[?25h  Created wheel for jax: filename=jax-0.4.10-py3-none-any.whl size=1480503 sha256=12b1e5f6fe37d49cfa0291f1ec192a3c66fd9a2694d39049b5a8c11b1d4c1792\n",
      "  Stored in directory: /home/belinda/.cache/pip/wheels/f8/55/5b/9dde9a2af48db48d64b8cc3877f0670cf11c5d78de392c3f05\n",
      "Successfully built jax\n",
      "Installing collected packages: libclang, tensorflow-io-gcs-filesystem, tensorflow-hub, ml-dtypes, jax, tensorflow-text, keras_nlp\n",
      "Successfully installed jax-0.4.10 keras_nlp-0.5.2 libclang-16.0.0 ml-dtypes-0.1.0 tensorflow-hub-0.13.0 tensorflow-io-gcs-filesystem-0.32.0 tensorflow-text-2.12.1\n"
     ]
    }
   ],
   "source": [
    "!pip install seaborn\n",
    "!pip install nltk\n",
    "!pip install datasets\n",
    "!pip install keras_nlp\n",
    "\n",
    "import logging\n",
    "import time\n",
    "import nltk\n",
    "import seaborn as sns\n",
    "import pandas as pd\n",
    "import matplotlib.pyplot as plt\n",
    "import numpy as np\n",
    "import datasets\n",
    "import tensorflow as tf\n",
    "import keras_nlp\n",
    "import pathlib\n",
    "import random\n",
    "from tensorflow import keras\n",
    "from tensorflow_text.tools.wordpiece_vocab import (\n",
    "    bert_vocab_from_dataset as bert_vocab,\n",
    ")"
   ]
  },
  {
   "cell_type": "code",
   "execution_count": 12,
   "id": "c78c1017",
   "metadata": {},
   "outputs": [],
   "source": [
    "# define our parameters/hyperparameters\n",
    "BATCH_SIZE = 64\n",
    "EPOCHS = 10  # This should be at least 10 for convergence\n",
    "MAX_SEQUENCE_LENGTH = 40\n",
    "ENG_VOCAB_SIZE = 15000\n",
    "LUG_VOCAB_SIZE = 15000\n",
    "\n",
    "EMBED_DIM = 256\n",
    "INTERMEDIATE_DIM = 2048\n",
    "NUM_HEADS = 8"
   ]
  },
  {
   "cell_type": "code",
   "execution_count": 25,
   "id": "252da6b2",
   "metadata": {},
   "outputs": [
    {
     "name": "stderr",
     "output_type": "stream",
     "text": [
      "Found cached dataset forai_ml_masakhane_mafand (/home/belinda/.cache/huggingface/datasets/sbmaruf___forai_ml_masakhane_mafand/en-lug/1.0.0/5983862e8f5e8cbca281d4e2ad5a14eb519b574d59f49faad0d7f107d12a3912)\n"
     ]
    },
    {
     "data": {
      "application/vnd.jupyter.widget-view+json": {
       "model_id": "c21a0f7b1bf24b90891c67bbdcc91f07",
       "version_major": 2,
       "version_minor": 0
      },
      "text/plain": [
       "  0%|          | 0/3 [00:00<?, ?it/s]"
      ]
     },
     "metadata": {},
     "output_type": "display_data"
    },
    {
     "name": "stdout",
     "output_type": "stream",
     "text": [
      "4075 training pairs\n",
      "1500 validation pairs\n",
      "1500 test pairs\n"
     ]
    }
   ],
   "source": [
    "import pandas as pd\n",
    "from datasets import load_dataset\n",
    "\n",
    "# Load the Tatoeba dataset for English and Luganda using load_dataset()\n",
    "new_dataset = load_dataset('sbmaruf/forai_ml_masakhane_mafand', 'en-lug')\n",
    "\n",
    "# Access the train, test and validation split of the dataset\n",
    "train_set = new_dataset['train']\n",
    "test_set = new_dataset['test']\n",
    "val_set = new_dataset['validation']\n",
    "\n",
    "# Extract the sentence pairs from the dataset split\n",
    "train_pairs = [(data['source'].lower(), data['target'].lower()) for data in train_set]\n",
    "test_pairs = [(data['source'].lower(), data['target'].lower()) for data in test_set]\n",
    "val_pairs = [(data['source'].lower(), data['target'].lower()) for data in val_set]\n",
    "\n",
    "random.shuffle(train_pairs)\n",
    "random.shuffle(test_pairs)\n",
    "random.shuffle(val_pairs)\n",
    "\n",
    "print(f\"{len(train_pairs)} training pairs\")\n",
    "print(f\"{len(val_pairs)} validation pairs\")\n",
    "print(f\"{len(test_pairs)} test pairs\")"
   ]
  },
  {
   "cell_type": "code",
   "execution_count": 26,
   "id": "40e7471a",
   "metadata": {},
   "outputs": [],
   "source": [
    "# tokenize the data\n",
    "def train_word_piece(text_samples, vocab_size, reserved_tokens):\n",
    "    word_piece_ds = tf.data.Dataset.from_tensor_slices(text_samples)\n",
    "    vocab = keras_nlp.tokenizers.compute_word_piece_vocabulary(\n",
    "        word_piece_ds.batch(1000).prefetch(2),\n",
    "        vocabulary_size=vocab_size,\n",
    "        reserved_tokens=reserved_tokens,\n",
    "    )\n",
    "    return vocab"
   ]
  },
  {
   "cell_type": "code",
   "execution_count": 27,
   "id": "cbf96d92",
   "metadata": {},
   "outputs": [
    {
     "name": "stderr",
     "output_type": "stream",
     "text": [
      "2023-05-23 08:19:27.956037: I tensorflow/core/common_runtime/executor.cc:1197] [/device:CPU:0] (DEBUG INFO) Executor start aborting (this does not indicate an error and you can ignore this message): INVALID_ARGUMENT: You must feed a value for placeholder tensor 'Placeholder/_0' with dtype string and shape [4075]\n",
      "\t [[{{node Placeholder/_0}}]]\n",
      "2023-05-23 08:19:41.372288: I tensorflow/core/common_runtime/executor.cc:1197] [/device:CPU:0] (DEBUG INFO) Executor start aborting (this does not indicate an error and you can ignore this message): INVALID_ARGUMENT: You must feed a value for placeholder tensor 'Placeholder/_0' with dtype string and shape [4075]\n",
      "\t [[{{node Placeholder/_0}}]]\n"
     ]
    }
   ],
   "source": [
    "reserved_tokens = [\"[PAD]\", \"[UNK]\", \"[START]\", \"[END]\"]\n",
    "\n",
    "eng_samples = [text_pair[0] for text_pair in train_pairs]\n",
    "eng_vocab = train_word_piece(eng_samples, ENG_VOCAB_SIZE, reserved_tokens)\n",
    "\n",
    "lug_samples = [text_pair[1] for text_pair in train_pairs]\n",
    "lug_vocab = train_word_piece(spa_samples, LUG_VOCAB_SIZE, reserved_tokens)"
   ]
  },
  {
   "cell_type": "code",
   "execution_count": 28,
   "id": "e418039f",
   "metadata": {},
   "outputs": [
    {
     "name": "stdout",
     "output_type": "stream",
     "text": [
      "English Tokens:  ['museveni', 'be', 'national', 'people', 'president', '##y', 'will', '##e', 'said', '##n']\n",
      "Luganda Tokens:  ['bw', 'ekitongole', 'agamba', 'olw', 'ba', 'kye', 'kino', 'buli', 'lw', 'ssente']\n"
     ]
    }
   ],
   "source": [
    "print(\"English Tokens: \", eng_vocab[100:110])\n",
    "print(\"Luganda Tokens: \", lug_vocab[100:110])"
   ]
  },
  {
   "cell_type": "code",
   "execution_count": 29,
   "id": "247afc11",
   "metadata": {},
   "outputs": [],
   "source": [
    "eng_tokenizer = keras_nlp.tokenizers.WordPieceTokenizer(\n",
    "    vocabulary=eng_vocab, lowercase=False\n",
    ")\n",
    "lug_tokenizer = keras_nlp.tokenizers.WordPieceTokenizer(\n",
    "    vocabulary=lug_vocab, lowercase=False\n",
    ")"
   ]
  },
  {
   "cell_type": "code",
   "execution_count": 30,
   "id": "5914800b",
   "metadata": {},
   "outputs": [
    {
     "name": "stdout",
     "output_type": "stream",
     "text": [
      "English sentence:  with all these issues, is the judiciary delivering justice? \n",
      "Tokens:  tf.Tensor(\n",
      "[  83  130  173  815   12   73   67   41 1454  183 1311   35  378 1316\n",
      "   76 1019   28], shape=(17,), dtype=int32)\n",
      "Recovered text after detokenizing:  tf.Tensor(b'with all these issues , is the judiciary delivering justice ?', shape=(), dtype=string)\n",
      "\n",
      "Luganda sentence:  okusinziira ku nsonga zino zonna, ekitongole ekiramuzi ddala kisala emisango mu bwenkanya?\n",
      "Tokens:  tf.Tensor(\n",
      "[ 210   65  153  880 1074   11  101   35  362 1182  196  518  678  589\n",
      "   64   77 1531   27], shape=(18,), dtype=int32)\n",
      "Recovered text after detokenizing:  tf.Tensor(b'okusinziira ku nsonga zino zonna , ekitongole ekiramuzi ddala kisala emisango mu bwenkanya ?', shape=(), dtype=string)\n"
     ]
    }
   ],
   "source": [
    "eng_input_ex = train_pairs[0][0]\n",
    "eng_tokens_ex = eng_tokenizer.tokenize(eng_input_ex)\n",
    "print(\"English sentence: \", eng_input_ex)\n",
    "print(\"Tokens: \", eng_tokens_ex)\n",
    "print(\n",
    "    \"Recovered text after detokenizing: \",\n",
    "    eng_tokenizer.detokenize(eng_tokens_ex),\n",
    ")\n",
    "\n",
    "print()\n",
    "\n",
    "lug_input_ex = train_pairs[0][1]\n",
    "lug_tokens_ex = lug_tokenizer.tokenize(lug_input_ex)\n",
    "print(\"Luganda sentence: \", lug_input_ex)\n",
    "print(\"Tokens: \", lug_tokens_ex)\n",
    "print(\n",
    "    \"Recovered text after detokenizing: \",\n",
    "    lug_tokenizer.detokenize(lug_tokens_ex),\n",
    ")"
   ]
  },
  {
   "cell_type": "code",
   "execution_count": 31,
   "id": "23a40d98",
   "metadata": {},
   "outputs": [],
   "source": [
    "def preprocess_batch(eng, lug):\n",
    "    batch_size = tf.shape(lug)[0]\n",
    "\n",
    "    eng = eng_tokenizer(eng)\n",
    "    lug = lug_tokenizer(lug)\n",
    "\n",
    "    # Pad `eng` to `MAX_SEQUENCE_LENGTH`.\n",
    "    eng_start_end_packer = keras_nlp.layers.StartEndPacker(\n",
    "        sequence_length=MAX_SEQUENCE_LENGTH,\n",
    "        pad_value=eng_tokenizer.token_to_id(\"[PAD]\"),\n",
    "    )\n",
    "    eng = eng_start_end_packer(eng)\n",
    "\n",
    "    # Add special tokens (`\"[START]\"` and `\"[END]\"`) to `lug` and pad it as well.\n",
    "    lug_start_end_packer = keras_nlp.layers.StartEndPacker(\n",
    "        sequence_length=MAX_SEQUENCE_LENGTH + 1,\n",
    "        start_value=lug_tokenizer.token_to_id(\"[START]\"),\n",
    "        end_value=lug_tokenizer.token_to_id(\"[END]\"),\n",
    "        pad_value=lug_tokenizer.token_to_id(\"[PAD]\"),\n",
    "    )\n",
    "    lug = lug_start_end_packer(lug)\n",
    "\n",
    "    return (\n",
    "        {\n",
    "            \"encoder_inputs\": eng,\n",
    "            \"decoder_inputs\": lug[:, :-1],\n",
    "        },\n",
    "        lug[:, 1:],\n",
    "    )\n",
    "\n",
    "\n",
    "def make_dataset(pairs):\n",
    "    eng_texts, lug_texts = zip(*pairs)\n",
    "    eng_texts = list(eng_texts)\n",
    "    lug_texts = list(lug_texts)\n",
    "    dataset = tf.data.Dataset.from_tensor_slices((eng_texts, lug_texts))\n",
    "    dataset = dataset.batch(BATCH_SIZE)\n",
    "    dataset = dataset.map(preprocess_batch, num_parallel_calls=tf.data.AUTOTUNE)\n",
    "    return dataset.shuffle(2048).prefetch(16).cache()\n",
    "\n",
    "\n",
    "train_ds = make_dataset(train_pairs)\n",
    "val_ds = make_dataset(val_pairs)"
   ]
  },
  {
   "cell_type": "code",
   "execution_count": 32,
   "id": "83023b1d",
   "metadata": {},
   "outputs": [
    {
     "name": "stderr",
     "output_type": "stream",
     "text": [
      "2023-05-23 08:21:33.513210: I tensorflow/core/common_runtime/executor.cc:1197] [/device:CPU:0] (DEBUG INFO) Executor start aborting (this does not indicate an error and you can ignore this message): INVALID_ARGUMENT: You must feed a value for placeholder tensor 'Placeholder/_6' with dtype uint8 and shape [115964]\n",
      "\t [[{{node Placeholder/_6}}]]\n",
      "2023-05-23 08:21:33.513687: I tensorflow/core/common_runtime/executor.cc:1197] [/device:CPU:0] (DEBUG INFO) Executor start aborting (this does not indicate an error and you can ignore this message): INVALID_ARGUMENT: You must feed a value for placeholder tensor 'Placeholder/_0' with dtype string and shape [4075]\n",
      "\t [[{{node Placeholder/_0}}]]\n"
     ]
    },
    {
     "name": "stdout",
     "output_type": "stream",
     "text": [
      "inputs[\"encoder_inputs\"].shape: (64, 40)\n",
      "inputs[\"decoder_inputs\"].shape: (64, 40)\n",
      "targets.shape: (64, 40)\n"
     ]
    },
    {
     "name": "stderr",
     "output_type": "stream",
     "text": [
      "2023-05-23 08:21:34.204348: W tensorflow/core/kernels/data/cache_dataset_ops.cc:856] The calling iterator did not fully read the dataset being cached. In order to avoid unexpected truncation of the dataset, the partially cached contents of the dataset  will be discarded. This can happen if you have an input pipeline similar to `dataset.cache().take(k).repeat()`. You should use `dataset.take(k).cache().repeat()` instead.\n"
     ]
    }
   ],
   "source": [
    "for inputs, targets in train_ds.take(1):\n",
    "    print(f'inputs[\"encoder_inputs\"].shape: {inputs[\"encoder_inputs\"].shape}')\n",
    "    print(f'inputs[\"decoder_inputs\"].shape: {inputs[\"decoder_inputs\"].shape}')\n",
    "    print(f\"targets.shape: {targets.shape}\")"
   ]
  },
  {
   "cell_type": "code",
   "execution_count": 33,
   "id": "e4f8c6a4",
   "metadata": {},
   "outputs": [],
   "source": [
    "## Building the model\n",
    "\n",
    "# Encoder\n",
    "encoder_inputs = keras.Input(shape=(None,), dtype=\"int64\", name=\"encoder_inputs\")\n",
    "\n",
    "x = keras_nlp.layers.TokenAndPositionEmbedding(\n",
    "    vocabulary_size=ENG_VOCAB_SIZE,\n",
    "    sequence_length=MAX_SEQUENCE_LENGTH,\n",
    "    embedding_dim=EMBED_DIM,\n",
    "    mask_zero=True,\n",
    ")(encoder_inputs)\n",
    "\n",
    "encoder_outputs = keras_nlp.layers.TransformerEncoder(\n",
    "    intermediate_dim=INTERMEDIATE_DIM, num_heads=NUM_HEADS\n",
    ")(inputs=x)\n",
    "encoder = keras.Model(encoder_inputs, encoder_outputs)\n",
    "\n",
    "\n",
    "# Decoder\n",
    "decoder_inputs = keras.Input(shape=(None,), dtype=\"int64\", name=\"decoder_inputs\")\n",
    "encoded_seq_inputs = keras.Input(shape=(None, EMBED_DIM), name=\"decoder_state_inputs\")\n",
    "\n",
    "x = keras_nlp.layers.TokenAndPositionEmbedding(\n",
    "    vocabulary_size=LUG_VOCAB_SIZE,\n",
    "    sequence_length=MAX_SEQUENCE_LENGTH,\n",
    "    embedding_dim=EMBED_DIM,\n",
    "    mask_zero=True,\n",
    ")(decoder_inputs)\n",
    "\n",
    "x = keras_nlp.layers.TransformerDecoder(\n",
    "    intermediate_dim=INTERMEDIATE_DIM, num_heads=NUM_HEADS\n",
    ")(decoder_sequence=x, encoder_sequence=encoded_seq_inputs)\n",
    "x = keras.layers.Dropout(0.5)(x)\n",
    "decoder_outputs = keras.layers.Dense(LUG_VOCAB_SIZE, activation=\"softmax\")(x)\n",
    "decoder = keras.Model(\n",
    "    [\n",
    "        decoder_inputs,\n",
    "        encoded_seq_inputs,\n",
    "    ],\n",
    "    decoder_outputs,\n",
    ")\n",
    "decoder_outputs = decoder([decoder_inputs, encoder_outputs])\n",
    "\n",
    "transformer = keras.Model(\n",
    "    [encoder_inputs, decoder_inputs],\n",
    "    decoder_outputs,\n",
    "    name=\"transformer\",\n",
    ")"
   ]
  },
  {
   "cell_type": "code",
   "execution_count": 34,
   "id": "ea130e98",
   "metadata": {},
   "outputs": [
    {
     "name": "stdout",
     "output_type": "stream",
     "text": [
      "Model: \"transformer\"\n",
      "__________________________________________________________________________________________________\n",
      " Layer (type)                   Output Shape         Param #     Connected to                     \n",
      "==================================================================================================\n",
      " encoder_inputs (InputLayer)    [(None, None)]       0           []                               \n",
      "                                                                                                  \n",
      " token_and_position_embedding_2  (None, None, 256)   3850240     ['encoder_inputs[0][0]']         \n",
      "  (TokenAndPositionEmbedding)                                                                     \n",
      "                                                                                                  \n",
      " decoder_inputs (InputLayer)    [(None, None)]       0           []                               \n",
      "                                                                                                  \n",
      " transformer_encoder_1 (Transfo  (None, None, 256)   1315072     ['token_and_position_embedding_2[\n",
      " rmerEncoder)                                                    0][0]']                          \n",
      "                                                                                                  \n",
      " model_3 (Functional)           (None, None, 15000)  9283992     ['decoder_inputs[0][0]',         \n",
      "                                                                  'transformer_encoder_1[0][0]']  \n",
      "                                                                                                  \n",
      "==================================================================================================\n",
      "Total params: 14,449,304\n",
      "Trainable params: 14,449,304\n",
      "Non-trainable params: 0\n",
      "__________________________________________________________________________________________________\n",
      "Epoch 1/10\n"
     ]
    },
    {
     "name": "stderr",
     "output_type": "stream",
     "text": [
      "2023-05-23 08:21:50.915892: I tensorflow/core/common_runtime/executor.cc:1197] [/device:CPU:0] (DEBUG INFO) Executor start aborting (this does not indicate an error and you can ignore this message): INVALID_ARGUMENT: You must feed a value for placeholder tensor 'Placeholder/_0' with dtype string and shape [4075]\n",
      "\t [[{{node Placeholder/_0}}]]\n",
      "2023-05-23 08:21:50.916597: I tensorflow/core/common_runtime/executor.cc:1197] [/device:CPU:0] (DEBUG INFO) Executor start aborting (this does not indicate an error and you can ignore this message): INVALID_ARGUMENT: You must feed a value for placeholder tensor 'Placeholder/_7' with dtype uint8 and shape [134004]\n",
      "\t [[{{node Placeholder/_7}}]]\n"
     ]
    },
    {
     "name": "stdout",
     "output_type": "stream",
     "text": [
      "64/64 [==============================] - ETA: 0s - loss: 6.7044 - accuracy: 0.0722"
     ]
    },
    {
     "name": "stderr",
     "output_type": "stream",
     "text": [
      "2023-05-23 08:23:29.149661: I tensorflow/core/common_runtime/executor.cc:1197] [/device:CPU:0] (DEBUG INFO) Executor start aborting (this does not indicate an error and you can ignore this message): INVALID_ARGUMENT: You must feed a value for placeholder tensor 'Placeholder/_1' with dtype string and shape [1500]\n",
      "\t [[{{node Placeholder/_1}}]]\n",
      "2023-05-23 08:23:29.154386: I tensorflow/core/common_runtime/executor.cc:1197] [/device:CPU:0] (DEBUG INFO) Executor start aborting (this does not indicate an error and you can ignore this message): INVALID_ARGUMENT: You must feed a value for placeholder tensor 'Placeholder/_0' with dtype string and shape [1500]\n",
      "\t [[{{node Placeholder/_0}}]]\n"
     ]
    },
    {
     "name": "stdout",
     "output_type": "stream",
     "text": [
      "64/64 [==============================] - 118s 2s/step - loss: 6.7044 - accuracy: 0.0722 - val_loss: 5.9435 - val_accuracy: 0.0951\n",
      "Epoch 2/10\n",
      "64/64 [==============================] - 120s 2s/step - loss: 5.6570 - accuracy: 0.1405 - val_loss: 5.3381 - val_accuracy: 0.1614\n",
      "Epoch 3/10\n",
      "64/64 [==============================] - 109s 2s/step - loss: 5.1715 - accuracy: 0.1725 - val_loss: 5.0983 - val_accuracy: 0.1773\n",
      "Epoch 4/10\n",
      "64/64 [==============================] - 112s 2s/step - loss: 4.8786 - accuracy: 0.1932 - val_loss: 4.9046 - val_accuracy: 0.1862\n",
      "Epoch 5/10\n",
      "64/64 [==============================] - 121s 2s/step - loss: 4.6516 - accuracy: 0.2057 - val_loss: 4.7465 - val_accuracy: 0.1920\n",
      "Epoch 6/10\n",
      "64/64 [==============================] - 120s 2s/step - loss: 4.4778 - accuracy: 0.2139 - val_loss: 4.6439 - val_accuracy: 0.1957\n",
      "Epoch 7/10\n",
      "64/64 [==============================] - 126s 2s/step - loss: 4.3471 - accuracy: 0.2191 - val_loss: 4.6531 - val_accuracy: 0.1922\n",
      "Epoch 8/10\n",
      "64/64 [==============================] - 113s 2s/step - loss: 4.2489 - accuracy: 0.2226 - val_loss: 4.5550 - val_accuracy: 0.1970\n",
      "Epoch 9/10\n",
      "64/64 [==============================] - 122s 2s/step - loss: 4.1548 - accuracy: 0.2269 - val_loss: 4.5180 - val_accuracy: 0.1998\n",
      "Epoch 10/10\n",
      "64/64 [==============================] - 112s 2s/step - loss: 4.0876 - accuracy: 0.2308 - val_loss: 4.5301 - val_accuracy: 0.1985\n"
     ]
    }
   ],
   "source": [
    "transformer.summary()\n",
    "transformer.compile(\n",
    "    \"rmsprop\", loss=\"sparse_categorical_crossentropy\", metrics=[\"accuracy\"]\n",
    ")\n",
    "\n",
    "# Train the model and store the history\n",
    "history = transformer.fit(train_ds, epochs=EPOCHS, validation_data=val_ds)"
   ]
  },
  {
   "cell_type": "code",
   "execution_count": 36,
   "id": "56e4bc22",
   "metadata": {},
   "outputs": [
    {
     "data": {
      "image/png": "[encoded data removed]",
      "text/plain": [
       "<Figure size 800x800 with 2 Axes>"
      ]
     },
     "metadata": {},
     "output_type": "display_data"
    }
   ],
   "source": [
    "acc = history.history['accuracy']\n",
    "val_acc = history.history['val_accuracy']\n",
    "\n",
    "loss = history.history['loss']\n",
    "val_loss = history.history['val_loss']\n",
    "\n",
    "epochs_range = range(EPOCHS)\n",
    "\n",
    "plt.figure(figsize=(8, 8))\n",
    "plt.subplot(1, 2, 1)\n",
    "plt.plot(epochs_range, acc, label='Training Accuracy')\n",
    "plt.plot(epochs_range, val_acc, label='Validation Accuracy')\n",
    "plt.legend(loc='lower right')\n",
    "plt.title('Training and Validation Accuracy')\n",
    "\n",
    "plt.subplot(1, 2, 2)\n",
    "plt.plot(epochs_range, loss, label='Training Loss')\n",
    "plt.plot(epochs_range, val_loss, label='Validation Loss')\n",
    "plt.legend(loc='upper right')\n",
    "plt.title('Training and Validation Loss')\n",
    "plt.show()"
   ]
  },
  {
   "cell_type": "code",
   "execution_count": null,
   "id": "afdbc79d",
   "metadata": {},
   "outputs": [],
   "source": []
  }
 ],
 "metadata": {
  "kernelspec": {
   "display_name": "Python 3 (ipykernel)",
   "language": "python",
   "name": "python3"
  },
  "language_info": {
   "codemirror_mode": {
    "name": "ipython",
    "version": 3
   },
   "file_extension": ".py",
   "mimetype": "text/x-python",
   "name": "python",
   "nbconvert_exporter": "python",
   "pygments_lexer": "ipython3",
   "version": "3.10.9"
  }
 },
 "nbformat": 4,
 "nbformat_minor": 5
}
